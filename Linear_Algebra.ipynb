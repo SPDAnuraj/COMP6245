{
  "nbformat": 4,
  "nbformat_minor": 0,
  "metadata": {
    "colab": {
      "name": "Linear Algebra.ipynb",
      "provenance": [],
      "private_outputs": true,
      "collapsed_sections": [],
      "authorship_tag": "ABX9TyP8XuTCz/nuYHd9RUNDAXsZ",
      "include_colab_link": true
    },
    "kernelspec": {
      "name": "python3",
      "display_name": "Python 3"
    }
  },
  "cells": [
    {
      "cell_type": "markdown",
      "metadata": {
        "id": "view-in-github",
        "colab_type": "text"
      },
      "source": [
        "<a href=\"https://colab.research.google.com/github/SPDAnuraj/COMP6245/blob/master/Linear_Algebra.ipynb\" target=\"_parent\"><img src=\"https://colab.research.google.com/assets/colab-badge.svg\" alt=\"Open In Colab\"/></a>"
      ]
    },
    {
      "cell_type": "markdown",
      "metadata": {
        "id": "ALgHkZMmtbiN",
        "colab_type": "text"
      },
      "source": [
        "**Scalar product between two vectors**\n",
        "\n",
        "\n",
        "\n",
        "\n",
        "*   There are two kinds of multiplication for vectors. One kind of multiplication is the scalar product, also known as the dot product. The other kind of multiplication is the vector product, also known as the cross product. The scalar product of vectors is a number (scalar). The vector product of vectors is a vector.\n",
        "\n",
        "*   Both kinds of multiplication have the distributive property, but only the scalar product has the commutative property. The vector product has the anticommutative property, which means that when we change the order in which two vectors are multiplied, the result acquires a minus sign.\n",
        "\n",
        "*  The scalar product of two vectors is obtained by multiplying their magnitudes with the cosine of the angle between them. The scalar product of orthogonal vectors vanishes; the scalar product of antiparallel vectors is negative.\n",
        "\n",
        "* The vector product of two vectors is a vector perpendicular to both of them. Its magnitude is obtained by multiplying their magnitudes by the sine of the angle between them. The direction of the vector product can be determined by the corkscrew right-hand rule. The vector product of two either parallel or antiparallel vectors vanishes. The magnitude of the vector product is largest for orthogonal vectors.\n",
        "* The scalar product of vectors is used to find angles between vectors and in the definitions of derived scalar physical quantities such as work or energy.\n",
        "\n",
        "* The cross product of vectors is used in definitions of derived vector physical quantities such as torque or magnetic force, and in describing rotations. item\n",
        "\n",
        "\n"
      ]
    },
    {
      "cell_type": "code",
      "metadata": {
        "id": "0piXDr4ydnCo",
        "colab_type": "code",
        "colab": {}
      },
      "source": [
        "%matplotlib inline\n",
        "import numpy as np\n",
        "import matplotlib.pyplot as plt\n",
        "\n",
        "#Scalar product between two vectors\n",
        "x = np.array([1,2])\n",
        "y = np.array([-2,1])\n",
        "a = np.dot(x,y)\n",
        "print(a)\n",
        "\n",
        "#There are two kinds of multiplication for vectors. One kind of multiplication is the scalar product, also known as the dot product. T\n",
        "#he other kind of multiplication is the vector product, also known as the cross product. \n",
        "#The scalar product of vectors is a number (scalar). The vector product of vectors is a vector.\n",
        "\n",
        "#Both kinds of multiplication have the distributive property, but only the scalar product has the commutative property. The vector product has the anticommutative property, \n",
        "#which means that when we change the order in which two vectors are multiplied, the result acquires a minus sign.\n",
        "\n",
        "#The scalar product of two vectors is obtained by multiplying their magnitudes with the cosine of the angle between them. \n",
        "#The scalar product of orthogonal vectors vanishes; the scalar product of antiparallel vectors is negative.\n",
        "\n",
        "#The vector product of two vectors is a vector perpendicular to both of them. Its magnitude is obtained by multiplying their magnitudes by the sine of the angle between them. \n",
        "#The direction of the vector product can be determined by the corkscrew right-hand rule. The vector product of two either parallel or antiparallel vectors vanishes. \n",
        "#.The magnitude of the vector product is largest for orthogonal vectors.\n",
        "\n",
        "##The scalar product of vectors is used to find angles between vectors and in the definitions of derived scalar physical quantities such as work or energy.\n",
        "\n",
        "#The cross product of vectors is used in definitions of derived vector physical quantities such as torque or magnetic force, and in describing rotations.\n",
        "\n",
        "b = np.linalg.norm(x)\n",
        "c = np.sqrt(x[0]**2+x[1]**2)\n",
        "print(b,c)"
      ],
      "execution_count": null,
      "outputs": []
    },
    {
      "cell_type": "code",
      "metadata": {
        "id": "CR_IavbNqIpJ",
        "colab_type": "code",
        "colab": {}
      },
      "source": [
        ""
      ],
      "execution_count": null,
      "outputs": []
    }
  ]
}