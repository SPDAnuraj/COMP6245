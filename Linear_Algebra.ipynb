{
  "nbformat": 4,
  "nbformat_minor": 0,
  "metadata": {
    "colab": {
      "name": "Linear Algebra.ipynb",
      "provenance": [],
      "private_outputs": true,
      "collapsed_sections": [],
      "authorship_tag": "ABX9TyMpEYJNGuoSzXT8IEOpQtPp",
      "include_colab_link": true
    },
    "kernelspec": {
      "name": "python3",
      "display_name": "Python 3"
    }
  },
  "cells": [
    {
      "cell_type": "markdown",
      "metadata": {
        "id": "view-in-github",
        "colab_type": "text"
      },
      "source": [
        "<a href=\"https://colab.research.google.com/github/SPDAnuraj/COMP6245/blob/master/Linear_Algebra.ipynb\" target=\"_parent\"><img src=\"https://colab.research.google.com/assets/colab-badge.svg\" alt=\"Open In Colab\"/></a>"
      ]
    },
    {
      "cell_type": "markdown",
      "metadata": {
        "id": "ALgHkZMmtbiN",
        "colab_type": "text"
      },
      "source": [
        "# **Scalar product between two vectors**\n",
        "\n",
        "\n",
        "\n",
        "\n",
        "*   There are two kinds of multiplication for vectors. One kind of multiplication is the scalar product, also known as the dot product. The other kind of multiplication is the vector product, also known as the cross product. The scalar product of vectors is a number (scalar). The vector product of vectors is a vector.\n",
        "\n",
        "*   Both kinds of multiplication have the distributive property, but only the scalar product has the commutative property. The vector product has the anticommutative property, which means that when we change the order in which two vectors are multiplied, the result acquires a minus sign.\n",
        "\n",
        "*  The scalar product of two vectors is obtained by multiplying their magnitudes with the cosine of the angle between them. The scalar product of orthogonal vectors vanishes; the scalar product of antiparallel vectors is negative.\n",
        "\n",
        "* The vector product of two vectors is a vector perpendicular to both of them. Its magnitude is obtained by multiplying their magnitudes by the sine of the angle between them. The direction of the vector product can be determined by the corkscrew right-hand rule. The vector product of two either parallel or antiparallel vectors vanishes. The magnitude of the vector product is largest for orthogonal vectors.\n",
        "* The scalar product of vectors is used to find angles between vectors and in the definitions of derived scalar physical quantities such as work or energy.\n",
        "\n",
        "* The cross product of vectors is used in definitions of derived vector physical quantities such as torque or magnetic force, and in describing rotations. item\n",
        "\n",
        "\n"
      ]
    },
    {
      "cell_type": "code",
      "metadata": {
        "id": "0piXDr4ydnCo",
        "colab_type": "code",
        "colab": {}
      },
      "source": [
        "%matplotlib inline\n",
        "import numpy as np\n",
        "import matplotlib.pyplot as plt\n",
        "\n",
        "#Scalar product between two vectors\n",
        "x = np.array([1,2])\n",
        "y = np.array([-2,1])\n",
        "a = np.dot(x,y)\n",
        "print(a)\n",
        "\n",
        "#There are two kinds of multiplication for vectors. One kind of multiplication is the scalar product, also known as the dot product. T\n",
        "#he other kind of multiplication is the vector product, also known as the cross product. \n",
        "#The scalar product of vectors is a number (scalar). The vector product of vectors is a vector.\n",
        "\n",
        "#Both kinds of multiplication have the distributive property, but only the scalar product has the commutative property. The vector product has the anticommutative property, \n",
        "#which means that when we change the order in which two vectors are multiplied, the result acquires a minus sign.\n",
        "\n",
        "#The scalar product of two vectors is obtained by multiplying their magnitudes with the cosine of the angle between them. \n",
        "#The scalar product of orthogonal vectors vanishes; the scalar product of antiparallel vectors is negative.\n",
        "\n",
        "#The vector product of two vectors is a vector perpendicular to both of them. Its magnitude is obtained by multiplying their magnitudes by the sine of the angle between them. \n",
        "#The direction of the vector product can be determined by the corkscrew right-hand rule. The vector product of two either parallel or antiparallel vectors vanishes. \n",
        "#.The magnitude of the vector product is largest for orthogonal vectors.\n",
        "\n",
        "##The scalar product of vectors is used to find angles between vectors and in the definitions of derived scalar physical quantities such as work or energy.\n",
        "\n",
        "#The cross product of vectors is used in definitions of derived vector physical quantities such as torque or magnetic force, and in describing rotations.\n",
        "\n"
      ],
      "execution_count": null,
      "outputs": []
    },
    {
      "cell_type": "markdown",
      "metadata": {
        "id": "YncCRYSpvWl4",
        "colab_type": "text"
      },
      "source": [
        "# **Norm of a vector;**\n",
        "\n",
        "\n",
        "\n",
        "*   The L1 norm that is calculated as the sum of the absolute values of the vector.\n",
        "* The L2 norm that is calculated as the square root of the sum of the squared vector values.\n",
        "* The max norm that is calculated as the maximum vector values.\n",
        "\n",
        "\n",
        "**Vector Norm**\n",
        "\n",
        "Calculating the size or length of a vector is often required either directly or as part of a broader vector or vector-matrix operation.\n",
        "\n",
        "The length of the vector is referred to as the vector norm or the vector’s magnitude.\n",
        "\n",
        "**Vector L1 Norm**\n",
        "\n",
        "The length of a vector can be calculated using the L1 norm, where the 1 is a superscript of the L, e.g. L^1.\n",
        "\n",
        "The notation for the L1 norm of a vector is ||v||1, where 1 is a subscript. As such, this length is sometimes called the taxicab norm or the Manhattan norm.\n",
        "\n",
        "\n",
        "```\n",
        "l1(v) = ||v||1\n",
        "```\n",
        "The L1 norm is calculated as the sum of the absolute vector values, where the absolute value of a scalar uses the notation |a1|. In effect, the norm is a calculation of the Manhattan distance from the origin of the vector space.\n",
        "\n",
        "```\t\n",
        "||v||1 = |a1| + |a2| + |a3|\n",
        "```\n",
        "The L1 norm of a vector can be calculated in NumPy using the norm() function with a parameter to specify the norm order, in this case 1.\n",
        "```\n",
        "from numpy import array\n",
        "from numpy.linalg import norm\n",
        "a = array([1, 2, 3])\n",
        "print(a)\n",
        "l1 = norm(a, 1)\n",
        "print(l1)\n",
        "```\n",
        "First, a 1×3 vector is defined, then the L1 norm of the vector is calculated.\n",
        "Running the example first prints the defined vector and then the vector’s L1 norm.\n",
        "\n",
        "---\n",
        "*The L1 norm is often used when fitting machine learning algorithms as a regularization method, e.g. a method to keep the coefficients of the model small, and in turn, the model less complex.*\n",
        "\n",
        "---\n",
        "\n"
      ]
    },
    {
      "cell_type": "code",
      "metadata": {
        "id": "CR_IavbNqIpJ",
        "colab_type": "code",
        "colab": {}
      },
      "source": [
        "b = np.linalg.norm(x)\n",
        "c = np.sqrt(x[0]**2+x[1]**2)\n",
        "print(b,c)"
      ],
      "execution_count": null,
      "outputs": []
    }
  ]
}