{
  "nbformat": 4,
  "nbformat_minor": 0,
  "metadata": {
    "colab": {
      "name": "Linear Algebra.ipynb",
      "provenance": [],
      "private_outputs": true,
      "collapsed_sections": [],
      "authorship_tag": "ABX9TyM9kG90FjD5IVJTwiwx+c5a",
      "include_colab_link": true
    },
    "kernelspec": {
      "name": "python3",
      "display_name": "Python 3"
    }
  },
  "cells": [
    {
      "cell_type": "markdown",
      "metadata": {
        "id": "view-in-github",
        "colab_type": "text"
      },
      "source": [
        "<a href=\"https://colab.research.google.com/github/SPDAnuraj/COMP6245/blob/master/Linear_Algebra.ipynb\" target=\"_parent\"><img src=\"https://colab.research.google.com/assets/colab-badge.svg\" alt=\"Open In Colab\"/></a>"
      ]
    },
    {
      "cell_type": "code",
      "metadata": {
        "id": "NitJECBJjBQQ",
        "colab_type": "code",
        "colab": {}
      },
      "source": [
        "%matplotlib inline\n",
        "import numpy as np\n",
        "import matplotlib.pyplot as plt\n",
        "\n",
        "x = np.array([1,2])\n",
        "y = np.array([-2,1])\n",
        "a = np.dot(x,y)\n",
        "print(a)"
      ],
      "execution_count": null,
      "outputs": []
    },
    {
      "cell_type": "markdown",
      "metadata": {
        "id": "ALgHkZMmtbiN",
        "colab_type": "text"
      },
      "source": [
        "# **Scalar product between two vectors**\n",
        "\n",
        "\n",
        "\n",
        "\n",
        "*   There are two kinds of multiplication for vectors. One kind of multiplication is the scalar product, also known as the dot product. The other kind of multiplication is the vector product, also known as the cross product. The scalar product of vectors is a number (scalar). The vector product of vectors is a vector.\n",
        "\n",
        "*   Both kinds of multiplication have the distributive property, but only the scalar product has the commutative property. The vector product has the anticommutative property, which means that when we change the order in which two vectors are multiplied, the result acquires a minus sign.\n",
        "\n",
        "*  The scalar product of two vectors is obtained by multiplying their magnitudes with the cosine of the angle between them. The scalar product of orthogonal vectors vanishes; the scalar product of antiparallel vectors is negative.\n",
        "\n",
        "* The vector product of two vectors is a vector perpendicular to both of them. Its magnitude is obtained by multiplying their magnitudes by the sine of the angle between them. The direction of the vector product can be determined by the corkscrew right-hand rule. The vector product of two either parallel or antiparallel vectors vanishes. The magnitude of the vector product is largest for orthogonal vectors.\n",
        "* The scalar product of vectors is used to find angles between vectors and in the definitions of derived scalar physical quantities such as work or energy.\n",
        "\n",
        "* The cross product of vectors is used in definitions of derived vector physical quantities such as torque or magnetic force, and in describing rotations. item\n",
        "\n",
        "\n"
      ]
    },
    {
      "cell_type": "code",
      "metadata": {
        "id": "0piXDr4ydnCo",
        "colab_type": "code",
        "colab": {}
      },
      "source": [
        "%matplotlib inline\n",
        "import numpy as np\n",
        "import matplotlib.pyplot as plt\n",
        "\n",
        "#Scalar product between two vectors\n",
        "x = np.array([1,2])\n",
        "y = np.array([-2,1])\n",
        "a = np.dot(x,y)\n",
        "print(a)\n",
        "\n",
        "#There are two kinds of multiplication for vectors. One kind of multiplication is the scalar product, also known as the dot product. T\n",
        "#he other kind of multiplication is the vector product, also known as the cross product. \n",
        "#The scalar product of vectors is a number (scalar). The vector product of vectors is a vector.\n",
        "\n",
        "#Both kinds of multiplication have the distributive property, but only the scalar product has the commutative property. The vector product has the anticommutative property, \n",
        "#which means that when we change the order in which two vectors are multiplied, the result acquires a minus sign.\n",
        "\n",
        "#The scalar product of two vectors is obtained by multiplying their magnitudes with the cosine of the angle between them. \n",
        "#The scalar product of orthogonal vectors vanishes; the scalar product of antiparallel vectors is negative.\n",
        "\n",
        "#The vector product of two vectors is a vector perpendicular to both of them. Its magnitude is obtained by multiplying their magnitudes by the sine of the angle between them. \n",
        "#The direction of the vector product can be determined by the corkscrew right-hand rule. The vector product of two either parallel or antiparallel vectors vanishes. \n",
        "#.The magnitude of the vector product is largest for orthogonal vectors.\n",
        "\n",
        "##The scalar product of vectors is used to find angles between vectors and in the definitions of derived scalar physical quantities such as work or energy.\n",
        "\n",
        "#The cross product of vectors is used in definitions of derived vector physical quantities such as torque or magnetic force, and in describing rotations.\n",
        "\n"
      ],
      "execution_count": null,
      "outputs": []
    },
    {
      "cell_type": "markdown",
      "metadata": {
        "id": "YncCRYSpvWl4",
        "colab_type": "text"
      },
      "source": [
        "# **Norm of a vector;**\n",
        "\n",
        "\n",
        "\n",
        "*   The L1 norm that is calculated as the sum of the absolute values of the vector.\n",
        "* The L2 norm that is calculated as the square root of the sum of the squared vector values.\n",
        "* The max norm that is calculated as the maximum vector values.\n",
        "---\n",
        "\n",
        "**#Vector Norm**\n",
        "\n",
        "Calculating the size or length of a vector is often required either directly or as part of a broader vector or vector-matrix operation.\n",
        "\n",
        "The length of the vector is referred to as the vector norm or the vector’s magnitude.\n",
        "\n",
        "**#Vector L1 Norm**\n",
        "\n",
        "The length of a vector can be calculated using the L1 norm, where the 1 is a superscript of the L, e.g. L^1.\n",
        "\n",
        "The notation for the L1 norm of a vector is ||v||1, where 1 is a subscript. As such, this length is sometimes called the taxicab norm or the Manhattan norm.\n",
        "\n",
        "\n",
        "```\n",
        "l1(v) = ||v||1\n",
        "```\n",
        "The L1 norm is calculated as the sum of the absolute vector values, where the absolute value of a scalar uses the notation |a1|. In effect, the norm is a calculation of the Manhattan distance from the origin of the vector space.\n",
        "\n",
        "```\t\n",
        "||v||1 = |a1| + |a2| + |a3|\n",
        "```\n",
        "The L1 norm of a vector can be calculated in NumPy using the norm() function with a parameter to specify the norm order, in this case 1.\n",
        "```\n",
        "from numpy import array\n",
        "from numpy.linalg import norm\n",
        "a = array([1, 2, 3])\n",
        "print(a)\n",
        "l1 = norm(a, 1)\n",
        "print(l1)\n",
        "```\n",
        "First, a 1×3 vector is defined, then the L1 norm of the vector is calculated.\n",
        "Running the example first prints the defined vector and then the vector’s L1 norm.\n",
        "\n",
        "---\n",
        "*The L1 norm is often used when fitting machine learning algorithms as a regularization method, e.g. a method to keep the coefficients of the model small, and in turn, the model less complex.*\n",
        "\n",
        "---\n",
        "\n",
        "**#Vector L2 Norm**\n",
        "\n",
        "The length of a vector can be calculated using the L2 norm, where the 2 is a superscript of the L, e.g. L^2.\n",
        "\n",
        "The notation for the L2 norm of a vector is ||v||2 where 2 is a subscript.\n",
        "```\n",
        "l2(v) = ||v||2\n",
        "```\n",
        "The L2 norm calculates the distance of the vector coordinate from the origin of the vector space. As such, it is also known as the Euclidean norm as it is calculated as the Euclidean distance from the origin. The result is a positive distance value.\n",
        "\n",
        "The L2 norm is calculated as the square root of the sum of the squared vector values.\n",
        "```\n",
        "||v||2 = sqrt(a1^2 + a2^2 + a3^2)\n",
        "```\n",
        "The L2 norm of a vector can be calculated in NumPy using the norm() function with default parameters.\n",
        "```\n",
        "#l2 norm of a vector\n",
        "from numpy import array\n",
        "from numpy.linalg import norm\n",
        "a = array([1, 2, 3])\n",
        "print(a)\n",
        "l2 = norm(a)\n",
        "print(l2)\n",
        "```\n",
        "First, a 1×3 vector is defined, then the L2 norm of the vector is calculated.\n",
        "\n",
        "Running the example first prints the defined vector and then the vector’s L2 norm.\n",
        "```\n",
        "[1 2 3]\n",
        "\n",
        "3.74165738677\n",
        "```\n",
        "---\n",
        "*Like the L1 norm, the L2 norm is often used when fitting machine learning algorithms as a regularization method, e.g. a method to keep the coefficients of the model small and, in turn, the model less complex.*\n",
        "\n",
        "*By far, the L2 norm is more commonly used than other vector norms in machine learning.*\n",
        "\n",
        "---\n",
        "\n",
        "#**Vector Max Norm**\n",
        "The length of a vector can be calculated using the maximum norm, also called max norm.\n",
        "\n",
        "Max norm of a vector is referred to as L^inf where inf is a superscript and can be represented with the infinity symbol. The notation for max norm is ||x||inf, where inf is a subscript.\n",
        "```\n",
        "maxnorm(v) = ||v||inf\n",
        "```\n",
        "The max norm is calculated as returning the maximum value of the vector, hence the name.\n",
        "```\n",
        "||v||inf = max(|a1|, |a2|, |a3|)\n",
        "```\n",
        "\n",
        "The max norm of a vector can be calculated in NumPy using the norm() function with the order parameter set to inf.\n",
        "```\n",
        "# max norm of a vector\n",
        "from numpy import inf\n",
        "from numpy import array\n",
        "from numpy.linalg import norm\n",
        "a = array([1, 2, 3])\n",
        "print(a)\n",
        "maxnorm = norm(a, inf)\n",
        "print(maxnorm)\n",
        "```\n",
        "\n",
        "First, a 1×3 vector is defined, then the max norm of the vector is calculated.\n",
        "\n",
        "Running the example first prints the defined vector and then the vector’s max norm.\n",
        "```\n",
        "[1 2 3]\n",
        "\n",
        "3.0\n",
        "```\n",
        "---\n",
        "*Max norm is also used as a regularization in machine learning, such as on neural network weights, called max norm regularizatio*\n",
        "\n",
        "---"
      ]
    },
    {
      "cell_type": "code",
      "metadata": {
        "id": "CR_IavbNqIpJ",
        "colab_type": "code",
        "colab": {}
      },
      "source": [
        "b = np.linalg.norm(x)\n",
        "c = np.sqrt(x[0]**2+x[1]**2)\n",
        "print(b,c)"
      ],
      "execution_count": null,
      "outputs": []
    },
    {
      "cell_type": "markdown",
      "metadata": {
        "id": "ITylFnkP3vJo",
        "colab_type": "text"
      },
      "source": [
        "# **Angle between two vectors**\n",
        "\n",
        "A commonly used approach to match similar documents is based on counting the maximum number of common words between the documents.\n",
        "\n",
        "But this approach has an inherent flaw. That is, as the size of the document increases, the number of common words tend to increase even if the documents talk about different topics.\n",
        "\n",
        "The cosine similarity helps overcome this fundamental flaw in the ‘count-the-common-words’ or Euclidean distance approach.\n",
        "\n",
        "The Cosine Similarity measurement begins by finding the cosine of the two non-zero vectors. This can be derived using the Euclidean dot product formula which is written as:\n",
        "\n",
        "![cosine-similarity-4583157.jpg](data:image/jpeg;base64,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)\n",
        "\n",
        "\n",
        "\n",
        "\n",
        "\n",
        "\n",
        "\n",
        "\n"
      ]
    },
    {
      "cell_type": "markdown",
      "metadata": {
        "id": "YM-9aLsekwUg",
        "colab_type": "text"
      },
      "source": [
        "Then, given the two vectors and the dot product, the cosine similarity is defined as,\n",
        "\n",
        "![cosine-similarity-4063640.jpg](data:image/jpeg;base64,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)\n",
        "\n",
        "The output will produce a value ranging from -1 to 1, indicating similarity where -1 is non-similar, 0 is orthogonal (perpendicular), and 1 represents total similarity."
      ]
    },
    {
      "cell_type": "markdown",
      "metadata": {
        "id": "wfyhioyxlVK3",
        "colab_type": "text"
      },
      "source": [
        "# **What is Cosine Similarity and why is it advantageous?**\n",
        "\n",
        "Cosine similarity is a metric used to determine how similar the documents are irrespective of their size.\n",
        "\n",
        "Mathematically, it measures the cosine of the angle between two vectors projected in a multi-dimensional space. In this context, the two vectors I am talking about are arrays containing the word counts of two documents.\n",
        "\n",
        "\n",
        "As a similarity metric, how does cosine similarity differ from the number of common words?\n",
        "\n",
        "When plotted on a multi-dimensional space, where each dimension corresponds to a word in the document, the cosine similarity captures the orientation (the angle) of the documents and not the magnitude. If you want the magnitude, compute the Euclidean distance instead.\n",
        "\n",
        "The cosine similarity is advantageous because even if the two similar documents are far apart by the Euclidean distance because of the size (like, the word ‘cricket’ appeared 50 times in one document and 10 times in another) they could still have a smaller angle between them. Smaller the angle, higher the similarity."
      ]
    },
    {
      "cell_type": "code",
      "metadata": {
        "id": "sipYLLl_iXWS",
        "colab_type": "code",
        "colab": {}
      },
      "source": [
        "theta = np.arccos(np.dot(x,y) / (np.linalg.norm(x)*(np.linalg.norm(x))))\n",
        "print(theta * 180 / np.pi)"
      ],
      "execution_count": null,
      "outputs": []
    },
    {
      "cell_type": "markdown",
      "metadata": {
        "id": "zIsLGdY6oiQI",
        "colab_type": "text"
      },
      "source": [
        "\n",
        "\n",
        "---\n",
        "\n"
      ]
    },
    {
      "cell_type": "markdown",
      "metadata": {
        "id": "4tiaP7_holo-",
        "colab_type": "text"
      },
      "source": [
        "# **Matrix-Matrix Multiplication (Dot Product)**\n",
        "\n",
        "Matrix multiplication, also called the matrix dot product is more complicated than the other operations and involves a rule as not all matrices can be multiplied together.\n",
        "\n",
        "```\n",
        "C = AB\n",
        "```\n",
        "\n",
        "The rule for matrix multiplication is as follows:\n",
        "\n",
        "\n",
        "\n",
        "> The number of columns (n) in the first matrix (A) must equal the number of rows (m) in the second matrix (B).\n",
        "\n",
        "\n",
        "For example, matrix A has the dimensions m rows and n columns and matrix B has the dimensions n and k. The n columns in A and n rows b are equal. The result is a new matrix with m rows and k columns.\n",
        "\n",
        "```\n",
        "C(m,k) = A(m,n) * B(n,k)\n",
        "```\n",
        "The intuition for the matrix multiplication is that we are calculating the dot product between each row in matrix A with each column in matrix B. For example, we can step down rows of column A and multiply each with column 1 in B to give the scalar values in column 1 of C.\n",
        "\n",
        "This is made clear with the following image.\n",
        "![Depection-of-Matrix-Multiplication.png](data:image/png;base64,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)\n"
      ]
    },
    {
      "cell_type": "markdown",
      "metadata": {
        "id": "WIHYHAz9pzzC",
        "colab_type": "text"
      },
      "source": [
        ""
      ]
    }
  ]
}