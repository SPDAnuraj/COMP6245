{
  "nbformat": 4,
  "nbformat_minor": 0,
  "metadata": {
    "colab": {
      "name": "Linear Algebra.ipynb",
      "provenance": [],
      "private_outputs": true,
      "collapsed_sections": [],
      "authorship_tag": "ABX9TyPCEp0+QMss1176FlR6e3Oq",
      "include_colab_link": true
    },
    "kernelspec": {
      "name": "python3",
      "display_name": "Python 3"
    }
  },
  "cells": [
    {
      "cell_type": "markdown",
      "metadata": {
        "id": "view-in-github",
        "colab_type": "text"
      },
      "source": [
        "<a href=\"https://colab.research.google.com/github/SPDAnuraj/COMP6245/blob/master/Linear_Algebra.ipynb\" target=\"_parent\"><img src=\"https://colab.research.google.com/assets/colab-badge.svg\" alt=\"Open In Colab\"/></a>"
      ]
    },
    {
      "cell_type": "code",
      "metadata": {
        "id": "NitJECBJjBQQ",
        "colab_type": "code",
        "colab": {}
      },
      "source": [
        "%matplotlib inline\n",
        "import numpy as np\n",
        "import matplotlib.pyplot as plt\n",
        "\n",
        "x = np.array([1,2])\n",
        "y = np.array([-2,1])\n",
        "a = np.dot(x,y)\n",
        "print(a)"
      ],
      "execution_count": null,
      "outputs": []
    },
    {
      "cell_type": "markdown",
      "metadata": {
        "id": "ALgHkZMmtbiN",
        "colab_type": "text"
      },
      "source": [
        "# **Scalar product between two vectors**\n",
        "\n",
        "\n",
        "\n",
        "\n",
        "*   There are two kinds of multiplication for vectors. One kind of multiplication is the scalar product, also known as the dot product. The other kind of multiplication is the vector product, also known as the cross product. The scalar product of vectors is a number (scalar). The vector product of vectors is a vector.\n",
        "\n",
        "*   Both kinds of multiplication have the distributive property, but only the scalar product has the commutative property. The vector product has the anticommutative property, which means that when we change the order in which two vectors are multiplied, the result acquires a minus sign.\n",
        "\n",
        "*  The scalar product of two vectors is obtained by multiplying their magnitudes with the cosine of the angle between them. The scalar product of orthogonal vectors vanishes; the scalar product of antiparallel vectors is negative.\n",
        "\n",
        "* The vector product of two vectors is a vector perpendicular to both of them. Its magnitude is obtained by multiplying their magnitudes by the sine of the angle between them. The direction of the vector product can be determined by the corkscrew right-hand rule. The vector product of two either parallel or antiparallel vectors vanishes. The magnitude of the vector product is largest for orthogonal vectors.\n",
        "* The scalar product of vectors is used to find angles between vectors and in the definitions of derived scalar physical quantities such as work or energy.\n",
        "\n",
        "* The cross product of vectors is used in definitions of derived vector physical quantities such as torque or magnetic force, and in describing rotations. item\n",
        "\n",
        "\n"
      ]
    },
    {
      "cell_type": "code",
      "metadata": {
        "id": "0piXDr4ydnCo",
        "colab_type": "code",
        "colab": {}
      },
      "source": [
        "%matplotlib inline\n",
        "import numpy as np\n",
        "import matplotlib.pyplot as plt\n",
        "\n",
        "#Scalar product between two vectors\n",
        "x = np.array([1,2])\n",
        "y = np.array([-2,1])\n",
        "a = np.dot(x,y)\n",
        "print(a)\n",
        "\n",
        "#There are two kinds of multiplication for vectors. One kind of multiplication is the scalar product, also known as the dot product. T\n",
        "#he other kind of multiplication is the vector product, also known as the cross product. \n",
        "#The scalar product of vectors is a number (scalar). The vector product of vectors is a vector.\n",
        "\n",
        "#Both kinds of multiplication have the distributive property, but only the scalar product has the commutative property. The vector product has the anticommutative property, \n",
        "#which means that when we change the order in which two vectors are multiplied, the result acquires a minus sign.\n",
        "\n",
        "#The scalar product of two vectors is obtained by multiplying their magnitudes with the cosine of the angle between them. \n",
        "#The scalar product of orthogonal vectors vanishes; the scalar product of antiparallel vectors is negative.\n",
        "\n",
        "#The vector product of two vectors is a vector perpendicular to both of them. Its magnitude is obtained by multiplying their magnitudes by the sine of the angle between them. \n",
        "#The direction of the vector product can be determined by the corkscrew right-hand rule. The vector product of two either parallel or antiparallel vectors vanishes. \n",
        "#.The magnitude of the vector product is largest for orthogonal vectors.\n",
        "\n",
        "##The scalar product of vectors is used to find angles between vectors and in the definitions of derived scalar physical quantities such as work or energy.\n",
        "\n",
        "#The cross product of vectors is used in definitions of derived vector physical quantities such as torque or magnetic force, and in describing rotations.\n",
        "\n"
      ],
      "execution_count": null,
      "outputs": []
    },
    {
      "cell_type": "markdown",
      "metadata": {
        "id": "YncCRYSpvWl4",
        "colab_type": "text"
      },
      "source": [
        "# **Norm of a vector;**\n",
        "\n",
        "\n",
        "\n",
        "*   The L1 norm that is calculated as the sum of the absolute values of the vector.\n",
        "* The L2 norm that is calculated as the square root of the sum of the squared vector values.\n",
        "* The max norm that is calculated as the maximum vector values.\n",
        "---\n",
        "\n",
        "**#Vector Norm**\n",
        "\n",
        "Calculating the size or length of a vector is often required either directly or as part of a broader vector or vector-matrix operation.\n",
        "\n",
        "The length of the vector is referred to as the vector norm or the vector’s magnitude.\n",
        "\n",
        "**#Vector L1 Norm**\n",
        "\n",
        "The length of a vector can be calculated using the L1 norm, where the 1 is a superscript of the L, e.g. L^1.\n",
        "\n",
        "The notation for the L1 norm of a vector is ||v||1, where 1 is a subscript. As such, this length is sometimes called the taxicab norm or the Manhattan norm.\n",
        "\n",
        "\n",
        "```\n",
        "l1(v) = ||v||1\n",
        "```\n",
        "The L1 norm is calculated as the sum of the absolute vector values, where the absolute value of a scalar uses the notation |a1|. In effect, the norm is a calculation of the Manhattan distance from the origin of the vector space.\n",
        "\n",
        "```\t\n",
        "||v||1 = |a1| + |a2| + |a3|\n",
        "```\n",
        "The L1 norm of a vector can be calculated in NumPy using the norm() function with a parameter to specify the norm order, in this case 1.\n",
        "```\n",
        "from numpy import array\n",
        "from numpy.linalg import norm\n",
        "a = array([1, 2, 3])\n",
        "print(a)\n",
        "l1 = norm(a, 1)\n",
        "print(l1)\n",
        "```\n",
        "First, a 1×3 vector is defined, then the L1 norm of the vector is calculated.\n",
        "Running the example first prints the defined vector and then the vector’s L1 norm.\n",
        "\n",
        "---\n",
        "*The L1 norm is often used when fitting machine learning algorithms as a regularization method, e.g. a method to keep the coefficients of the model small, and in turn, the model less complex.*\n",
        "\n",
        "---\n",
        "\n",
        "**#Vector L2 Norm**\n",
        "\n",
        "The length of a vector can be calculated using the L2 norm, where the 2 is a superscript of the L, e.g. L^2.\n",
        "\n",
        "The notation for the L2 norm of a vector is ||v||2 where 2 is a subscript.\n",
        "```\n",
        "l2(v) = ||v||2\n",
        "```\n",
        "The L2 norm calculates the distance of the vector coordinate from the origin of the vector space. As such, it is also known as the Euclidean norm as it is calculated as the Euclidean distance from the origin. The result is a positive distance value.\n",
        "\n",
        "The L2 norm is calculated as the square root of the sum of the squared vector values.\n",
        "```\n",
        "||v||2 = sqrt(a1^2 + a2^2 + a3^2)\n",
        "```\n",
        "The L2 norm of a vector can be calculated in NumPy using the norm() function with default parameters.\n",
        "```\n",
        "#l2 norm of a vector\n",
        "from numpy import array\n",
        "from numpy.linalg import norm\n",
        "a = array([1, 2, 3])\n",
        "print(a)\n",
        "l2 = norm(a)\n",
        "print(l2)\n",
        "```\n",
        "First, a 1×3 vector is defined, then the L2 norm of the vector is calculated.\n",
        "\n",
        "Running the example first prints the defined vector and then the vector’s L2 norm.\n",
        "```\n",
        "[1 2 3]\n",
        "\n",
        "3.74165738677\n",
        "```\n",
        "---\n",
        "*Like the L1 norm, the L2 norm is often used when fitting machine learning algorithms as a regularization method, e.g. a method to keep the coefficients of the model small and, in turn, the model less complex.*\n",
        "\n",
        "*By far, the L2 norm is more commonly used than other vector norms in machine learning.*\n",
        "\n",
        "---\n",
        "\n",
        "#**Vector Max Norm**\n",
        "The length of a vector can be calculated using the maximum norm, also called max norm.\n",
        "\n",
        "Max norm of a vector is referred to as L^inf where inf is a superscript and can be represented with the infinity symbol. The notation for max norm is ||x||inf, where inf is a subscript.\n",
        "```\n",
        "maxnorm(v) = ||v||inf\n",
        "```\n",
        "The max norm is calculated as returning the maximum value of the vector, hence the name.\n",
        "```\n",
        "||v||inf = max(|a1|, |a2|, |a3|)\n",
        "```\n",
        "\n",
        "The max norm of a vector can be calculated in NumPy using the norm() function with the order parameter set to inf.\n",
        "```\n",
        "# max norm of a vector\n",
        "from numpy import inf\n",
        "from numpy import array\n",
        "from numpy.linalg import norm\n",
        "a = array([1, 2, 3])\n",
        "print(a)\n",
        "maxnorm = norm(a, inf)\n",
        "print(maxnorm)\n",
        "```\n",
        "\n",
        "First, a 1×3 vector is defined, then the max norm of the vector is calculated.\n",
        "\n",
        "Running the example first prints the defined vector and then the vector’s max norm.\n",
        "```\n",
        "[1 2 3]\n",
        "\n",
        "3.0\n",
        "```\n",
        "---\n",
        "*Max norm is also used as a regularization in machine learning, such as on neural network weights, called max norm regularizatio*\n",
        "\n",
        "---"
      ]
    },
    {
      "cell_type": "code",
      "metadata": {
        "id": "CR_IavbNqIpJ",
        "colab_type": "code",
        "colab": {}
      },
      "source": [
        "b = np.linalg.norm(x)\n",
        "c = np.sqrt(x[0]**2+x[1]**2)\n",
        "print(b,c)"
      ],
      "execution_count": null,
      "outputs": []
    },
    {
      "cell_type": "markdown",
      "metadata": {
        "id": "ITylFnkP3vJo",
        "colab_type": "text"
      },
      "source": [
        "# **Angle between two vectors**\n",
        "\n",
        "A commonly used approach to match similar documents is based on counting the maximum number of common words between the documents.\n",
        "\n",
        "But this approach has an inherent flaw. That is, as the size of the document increases, the number of common words tend to increase even if the documents talk about different topics.\n",
        "\n",
        "The cosine similarity helps overcome this fundamental flaw in the ‘count-the-common-words’ or Euclidean distance approach.\n",
        "\n",
        "The Cosine Similarity measurement begins by finding the cosine of the two non-zero vectors. This can be derived using the Euclidean dot product formula which is written as:\n",
        "\n",
        "![cosine-similarity-4583157.jpg](data:image/jpeg;base64,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)\n",
        "\n",
        "\n",
        "\n",
        "\n",
        "\n",
        "\n",
        "\n",
        "\n"
      ]
    },
    {
      "cell_type": "markdown",
      "metadata": {
        "id": "YM-9aLsekwUg",
        "colab_type": "text"
      },
      "source": [
        "Then, given the two vectors and the dot product, the cosine similarity is defined as,\n",
        "\n",
        "![cosine-similarity-4063640.jpg](data:image/jpeg;base64,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)\n",
        "\n",
        "The output will produce a value ranging from -1 to 1, indicating similarity where -1 is non-similar, 0 is orthogonal (perpendicular), and 1 represents total similarity."
      ]
    },
    {
      "cell_type": "code",
      "metadata": {
        "id": "sipYLLl_iXWS",
        "colab_type": "code",
        "colab": {}
      },
      "source": [
        "theta = np.arccos(np.dot(x,y) / (np.linalg.norm(x)*(np.linalg.norm(x))))\n",
        "print(theta * 180 / np.pi)"
      ],
      "execution_count": null,
      "outputs": []
    }
  ]
}